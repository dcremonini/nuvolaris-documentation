{
 "cells": [
  {
   "cell_type": "code",
   "execution_count": 1,
   "id": "85d1d1e5-39fa-4bd6-aa55-48b5125a65ae",
   "metadata": {},
   "outputs": [],
   "source": [
    "import jupyter_manim"
   ]
  },
  {
   "cell_type": "code",
   "execution_count": 2,
   "id": "35962222-cd75-441b-8f38-c424dcd82054",
   "metadata": {},
   "outputs": [],
   "source": [
    "from pathlib import Path\n",
    "from subprocess import Popen, PIPE\n",
    "\n",
    "def colorize(text): \n",
    "    Path(\"_tmp.py\").write_text(text)  \n",
    "    (out, _) = Popen([\"pygmentize\", \"_tmp.py\", \"-f\", \"pango\"], stdout=PIPE, text=True).communicate()\n",
    "    return out\n",
    " \n",
    "\n",
    "hello_world = \"\"\"\n",
    "def hello(args):\n",
    "   print(\"Ciao Mondo\")        \n",
    "\"\"\"\n",
    "for_loop = \"\"\"\n",
    "for i in range(1,100):\n",
    "  print(i)\n",
    "\"\"\"\n",
    "\n",
    "#colorize(hello_world)"
   ]
  },
  {
   "cell_type": "code",
   "execution_count": 4,
   "id": "d3ddea6f-9764-4c61-ae59-2f7fa5cf6c5f",
   "metadata": {},
   "outputs": [
    {
     "name": "stderr",
     "output_type": "stream",
     "text": [
      "                                                                                                                                                                                                                                                                                                                                                                                                                     \r"
     ]
    },
    {
     "data": {
      "text/html": [
       "<video src=\"media/jupyter/TopLeftText@2024-01-23@13-13-00.mp4\" controls autoplay loop style=\"max-width: 60%;\"  >\n",
       "      Your browser does not support the <code>video</code> element.\n",
       "    </video>"
      ],
      "text/plain": [
       "<IPython.core.display.Video object>"
      ]
     },
     "metadata": {},
     "output_type": "display_data"
    }
   ],
   "source": [
    "%%manim -ql -v WARNING TopLeftText \n",
    "from manim import *\n",
    "class TopLeftText(Scene):\n",
    "    def construct(self):\n",
    "        hello = MarkupText(colorize(hello_world),font='Monospace')\n",
    "        hello.to_edge(UP + LEFT)\n",
    "        forl = MarkupText(colorize(for_loop),font='Monospace')\n",
    "        thanks = Text(\"Thanks for watching\").scale(1)\n",
    "        self.play(Create(hello, run_time=2, rate_func=linear))\n",
    "        self.wait(2)        \n",
    "        self.play(FadeOut(hello, shift=DOWN * 2, scale=1.5))\n",
    "        self.play(Create(forl, run_time=2, rate_func=linear))\n",
    "        self.wait(2)\n",
    "        self.play(ReplacementTransform(forl, thanks))\n",
    "        self.wait(10)"
   ]
  },
  {
   "cell_type": "code",
   "execution_count": null,
   "id": "accaa7b5-8466-42ee-8cef-86152b4afd0f",
   "metadata": {},
   "outputs": [],
   "source": []
  }
 ],
 "metadata": {
  "kernelspec": {
   "display_name": "Python 3 (ipykernel)",
   "language": "python",
   "name": "python3"
  },
  "language_info": {
   "codemirror_mode": {
    "name": "ipython",
    "version": 3
   },
   "file_extension": ".py",
   "mimetype": "text/x-python",
   "name": "python",
   "nbconvert_exporter": "python",
   "pygments_lexer": "ipython3",
   "version": "3.10.12"
  }
 },
 "nbformat": 4,
 "nbformat_minor": 5
}
