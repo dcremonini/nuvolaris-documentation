{
 "cells": [
  {
   "cell_type": "code",
   "execution_count": 1,
   "id": "85d1d1e5-39fa-4bd6-aa55-48b5125a65ae",
   "metadata": {},
   "outputs": [],
   "source": [
    "import jupyter_manim"
   ]
  },
  {
   "cell_type": "code",
   "execution_count": 2,
   "id": "35962222-cd75-441b-8f38-c424dcd82054",
   "metadata": {},
   "outputs": [],
   "source": [
    "from pathlib import Path\n",
    "from subprocess import Popen, PIPE\n",
    "\n",
    "def colorize(text): \n",
    "    Path(\"_tmp.py\").write_text(text)  \n",
    "    (out, _) = Popen([\"pygmentize\", \"_tmp.py\", \"-f\", \"pango\"], stdout=PIPE, text=True).communicate()\n",
    "    return out\n",
    " \n",
    "\n",
    "hello_world = \"\"\"\n",
    "def hello(args):\n",
    "   print(\"Ciao Mondo\")        \n",
    "\"\"\"\n",
    "for_loop = \"\"\"\n",
    "for i in range(1,100):\n",
    "  print(i)\n",
    "\"\"\"\n",
    "\n",
    "#colorize(hello_world)"
   ]
  },
  {
   "cell_type": "code",
   "execution_count": 3,
   "id": "d3ddea6f-9764-4c61-ae59-2f7fa5cf6c5f",
   "metadata": {},
   "outputs": [
    {
     "data": {
      "text/html": [
       "<pre style=\"white-space:pre;overflow-x:auto;line-height:normal;font-family:Menlo,'DejaVu Sans Mono',consolas,'Courier New',monospace\">Manim Community <span style=\"color: #008000; text-decoration-color: #008000\">v0.18.0</span>\n",
       "\n",
       "</pre>\n"
      ],
      "text/plain": [
       "Manim Community \u001b[32mv0.\u001b[0m\u001b[32m18.0\u001b[0m\n",
       "\n"
      ]
     },
     "metadata": {},
     "output_type": "display_data"
    },
    {
     "name": "stdout",
     "output_type": "stream",
     "text": [
      "\n"
     ]
    },
    {
     "name": "stderr",
     "output_type": "stream",
     "text": [
      "/home/ubuntu/mastrogpt-shell/nuvolaris-mastrogpt/docs/content/venv/lib/python3.10/site-packages/jupyter_manim/__init__.py:140: UserWarning: Pickling failed: Could not find IPython frame\n",
      "  warn('Pickling failed: ' + str(e))\n",
      "/home/ubuntu/mastrogpt-shell/nuvolaris-mastrogpt/docs/content/venv/lib/python3.10/site-packages/jupyter_manim/__init__.py:247: UserWarning: Assembling imports failed: Could not find IPython frame\n",
      "  warn('Assembling imports failed: ' + str(e))\n",
      "/home/ubuntu/mastrogpt-shell/nuvolaris-mastrogpt/docs/content/venv/lib/python3.10/site-packages/jupyter_manim/__init__.py:297: UserWarning: Could not find path in the manim output\n",
      "  warn('Could not find path in the manim output')\n",
      "usage: manim [-h] [-p] [-w] [-s] [-l] [-m] [--high_quality] [-g] [-i] [-f]\n",
      "             [-t] [-q] [-a] [-o FILE_NAME] [-n START_AT_ANIMATION_NUMBER]\n",
      "             [-r RESOLUTION] [-c COLOR] [--sound] [--leave_progress_bars]\n",
      "             [--media_dir MEDIA_DIR]\n",
      "             [--video_dir VIDEO_DIR | --video_output_dir VIDEO_OUTPUT_DIR]\n",
      "             [--tex_dir TEX_DIR]\n",
      "             file [scene_names ...]\n",
      "manim: error: unrecognized arguments: -v WARNING TopLeftText\n",
      "\n"
     ]
    }
   ],
   "source": [
    "%%manim -ql -v WARNING TopLeftText \n",
    "from manim import *\n",
    "class TopLeftText(Scene):\n",
    "    def construct(self):\n",
    "        hello = MarkupText(colorize(hello_world),font='Monospace')\n",
    "        hello.to_edge(UP + LEFT)\n",
    "        forl = MarkupText(colorize(for_loop),font='Monospace')\n",
    "        thanks = Text(\"Thanks for watching\").scale(1)\n",
    "        self.play(Create(hello, run_time=2, rate_func=linear))\n",
    "        self.wait(2)        \n",
    "        self.play(FadeOut(hello, shift=DOWN * 2, scale=1.5))\n",
    "        self.play(Create(forl, run_time=2, rate_func=linear))\n",
    "        self.wait(2)\n",
    "        self.play(ReplacementTransform(forl, thanks))\n",
    "        self.wait(10)"
   ]
  },
  {
   "cell_type": "code",
   "execution_count": null,
   "id": "accaa7b5-8466-42ee-8cef-86152b4afd0f",
   "metadata": {},
   "outputs": [],
   "source": []
  }
 ],
 "metadata": {
  "kernelspec": {
   "display_name": "Python 3 (ipykernel)",
   "language": "python",
   "name": "python3"
  },
  "language_info": {
   "codemirror_mode": {
    "name": "ipython",
    "version": 3
   },
   "file_extension": ".py",
   "mimetype": "text/x-python",
   "name": "python",
   "nbconvert_exporter": "python",
   "pygments_lexer": "ipython3",
   "version": "3.10.12"
  }
 },
 "nbformat": 4,
 "nbformat_minor": 5
}
