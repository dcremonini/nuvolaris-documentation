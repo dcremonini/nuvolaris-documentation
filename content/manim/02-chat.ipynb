{
 "cells": [
  {
   "cell_type": "code",
   "execution_count": 1,
   "id": "57bba08a-786e-4050-9330-ca1a83433ca8",
   "metadata": {},
   "outputs": [
    {
     "data": {
      "text/html": [
       "<pre style=\"white-space:pre;overflow-x:auto;line-height:normal;font-family:Menlo,'DejaVu Sans Mono',consolas,'Courier New',monospace\">Manim Community <span style=\"color: #008000; text-decoration-color: #008000\">v0.18.0</span>\n",
       "\n",
       "</pre>\n"
      ],
      "text/plain": [
       "Manim Community \u001b[32mv0.\u001b[0m\u001b[32m18.0\u001b[0m\n",
       "\n"
      ]
     },
     "metadata": {},
     "output_type": "display_data"
    }
   ],
   "source": [
    "import jupyter_manim\n",
    "from manim import *\n",
    "\n",
    "from pathlib import Path\n",
    "from subprocess import Popen, PIPE\n",
    "\n",
    "def colorize(text): \n",
    "    Path(\"_col.py\").write_text(text)  \n",
    "    (out, _) = Popen([\"pygmentize\", \"_col.py\", \"-f\", \"pango\"], stdout=PIPE, text=True).communicate()\n",
    "    return out\n",
    "\n",
    "def addlogo(scene):\n",
    "    logo = ImageMobject(\"images/logo-full-transparent.png\") # Replace with your logo\n",
    "    logo.scale(0.2)\n",
    "    logo.scale(0.4)\n",
    "    logo.to_corner(DR)\n",
    "    scene.add(logo)"
   ]
  },
  {
   "cell_type": "code",
   "execution_count": 2,
   "id": "f1289ec2-09c6-470d-86a4-a3cea217f65c",
   "metadata": {},
   "outputs": [
    {
     "name": "stderr",
     "output_type": "stream",
     "text": [
      "                                                                                           \r"
     ]
    },
    {
     "data": {
      "text/html": [
       "<video src=\"media/jupyter/Hello@2024-01-24@16-53-18.mp4\" controls autoplay loop style=\"max-width: 60%;\"  >\n",
       "      Your browser does not support the <code>video</code> element.\n",
       "    </video>"
      ],
      "text/plain": [
       "<IPython.core.display.Video object>"
      ]
     },
     "metadata": {},
     "output_type": "display_data"
    }
   ],
   "source": [
    "%%manim -ql -v WARNING Hello \n",
    "class Hello(Scene):\n",
    "    def construct(self): \n",
    "\n",
    "        # Create your logo and title\n",
    "        logo = ImageMobject(\"images/logo-full-transparent.png\") # Replace with your logo\n",
    "        logo.scale(0.2)\n",
    "\n",
    "        logo1 = logo.copy()\n",
    "        logo1.scale(0.4)\n",
    "        logo1.to_corner(DR)\n",
    "        \n",
    "        title = Text(\"Implementing a Chat\\n    Using OpenAI\\n    with Nuvolaris\").scale(1.5) # Replace with your title\n",
    "\n",
    "        # Position the logo at the center\n",
    "        #logo.move_to(ORIGIN)\n",
    "\n",
    "        # Create a target position for the logo (top left corner)\n",
    "        #logo.target = logo.copy().to_corner(UL)\n",
    "\n",
    "        # Animation: move logo to top left and fade in the title\n",
    "        self.play(\n",
    "            Transform(logo, logo1),\n",
    "            FadeIn(title),\n",
    "            run_time=3\n",
    "        )\n",
    "\n",
    "        # Keep the screen for a while\n",
    "        self.wait(3)"
   ]
  },
  {
   "cell_type": "code",
   "execution_count": 8,
   "id": "e3650c77-500b-40a8-8feb-dc0bdd63690b",
   "metadata": {},
   "outputs": [
    {
     "name": "stderr",
     "output_type": "stream",
     "text": [
      "                                                                                             \r"
     ]
    },
    {
     "data": {
      "text/html": [
       "<video src=\"media/jupyter/Completion@2024-01-24@16-56-26.mp4\" controls autoplay loop style=\"max-width: 60%;\"  >\n",
       "      Your browser does not support the <code>video</code> element.\n",
       "    </video>"
      ],
      "text/plain": [
       "<IPython.core.display.Video object>"
      ]
     },
     "metadata": {},
     "output_type": "display_data"
    }
   ],
   "source": [
    "%%manim -ql -v WARNING Completion \n",
    "\n",
    "from manim import *\n",
    "class Completion(Scene):\n",
    "    def construct(self):\n",
    "        t1 = Text('We use completions API\\n    (context-free)\\n').set_color(YELLOW)\n",
    "        t2 = MarkupText(colorize('MODEL = \"gpt-3.5-turbo\"\\ncomp = AI.chat.completions.create(\\nmodel=MODEL, messages=req(input))'), font='Monospace').to_edge(LEFT).scale(.7)\n",
    "        vg = VGroup(t1,t2).arrange(DOWN, buff=0.4)\n",
    "        self.play(Create(vg, run_time=5))\n",
    "        self.wait(3)\n",
    "  "
   ]
  },
  {
   "cell_type": "code",
   "execution_count": 19,
   "id": "9135ca9e-1ca8-4fe9-a308-bb7b42495d1c",
   "metadata": {},
   "outputs": [
    {
     "name": "stderr",
     "output_type": "stream",
     "text": [
      "                                                                                             \r"
     ]
    },
    {
     "data": {
      "text/html": [
       "<video src=\"media/jupyter/SaveKey@2024-01-24@17-06-00.mp4\" controls autoplay loop style=\"max-width: 60%;\"  >\n",
       "      Your browser does not support the <code>video</code> element.\n",
       "    </video>"
      ],
      "text/plain": [
       "<IPython.core.display.Video object>"
      ]
     },
     "metadata": {},
     "output_type": "display_data"
    }
   ],
   "source": [
    "%%manim -ql -v WARNING SaveKey \n",
    "\n",
    "from manim import *\n",
    "class SaveKey(Scene):\n",
    "    def construct(self):\n",
    "        t1 = Text('The req() provides the user input\\nand the instructions for the system.\\n\\n').set_color(YELLOW)\n",
    "        #colorize code\n",
    "        t2 = MarkupText(colorize('ROLE = \"\"\"You are a friendly assistant\"\"\"\\ndef req(msg):\\n    return [{\"role\": \"system\", \"content\": ROLE},\\n            {\"role\": \"user\", \"content\": msg}]'), font='Monospace').to_edge(LEFT).scale(.7)\n",
    "        vg = VGroup(t1,t2).arrange(DOWN, buff=0.4)\n",
    "        self.play(Create(vg, run_time=5))\n",
    "        self.wait(3)"
   ]
  },
  {
   "cell_type": "code",
   "execution_count": 16,
   "id": "0e6a2950-44a6-4826-bd43-8f301204aacd",
   "metadata": {},
   "outputs": [
    {
     "name": "stderr",
     "output_type": "stream",
     "text": [
      "                                                                                             \r"
     ]
    },
    {
     "data": {
      "text/html": [
       "<video src=\"media/jupyter/Ask@2024-01-24@17-00-34.mp4\" controls autoplay loop style=\"max-width: 60%;\"  >\n",
       "      Your browser does not support the <code>video</code> element.\n",
       "    </video>"
      ],
      "text/plain": [
       "<IPython.core.display.Video object>"
      ]
     },
     "metadata": {},
     "output_type": "display_data"
    }
   ],
   "source": [
    "%%manim -ql -v WARNING Ask \n",
    "\n",
    "from manim import *\n",
    "class Ask(Scene):\n",
    "    def construct(self):\n",
    "        t1 = Text('Let\\'s define function ask()\\n').set_color(YELLOW)\n",
    "        t2 = MarkupText(colorize('def ask(input):\\n    comp = AI.chat.completions.create(model=MODEL, \\n        messages=req(input))\\n\\n    if len(comp.choices) > 0:\\n        return comp.choices[0].message.content\\n    return \"ERROR\"\\n'), font='Monospace').to_edge(LEFT).scale(.7)\n",
    "        vg = VGroup(t1,t2).arrange(DOWN, buff=0.4)\n",
    "        self.play(Create(vg, run_time=5))\n",
    "        self.wait(3)"
   ]
  },
  {
   "cell_type": "code",
   "execution_count": 13,
   "id": "49c0e07e",
   "metadata": {},
   "outputs": [
    {
     "name": "stderr",
     "output_type": "stream",
     "text": [
      "                                                                                                      \r"
     ]
    },
    {
     "data": {
      "text/html": [
       "<video src=\"media/jupyter/GetAPIKey@2024-01-24@16-58-14.mp4\" controls autoplay loop style=\"max-width: 60%;\"  >\n",
       "      Your browser does not support the <code>video</code> element.\n",
       "    </video>"
      ],
      "text/plain": [
       "<IPython.core.display.Video object>"
      ]
     },
     "metadata": {},
     "output_type": "display_data"
    }
   ],
   "source": [
    "%%manim -ql -v WARNING GetAPIKey \n",
    "\n",
    "from manim import *\n",
    "class GetAPIKey(Scene):\n",
    "    def construct(self):\n",
    "        t1 = Text(\"Let's see \\nthe structure of comp\").scale(1).to_edge(RIGHT)\n",
    "        self.play(Create(t1, run_time=2))\n",
    "        img= ImageMobject(\"images/completions.png\")\n",
    "        img1= img.copy()\n",
    "        img.scale(1.2)\n",
    "        img.to_edge(LEFT, buff=1)\n",
    "        self.add(img)\n",
    "        self.play(FadeIn(img))\n",
    "        self.wait(2)\n",
    "        self.play(FadeOut(t1))\n",
    "        img1.scale(2.1)\n",
    "        self.play(\n",
    "            Transform(img, img1),\n",
    "            run_time=3\n",
    "        )\n",
    "        rectangle = Rectangle(color=BLUE,width=5, height=-1)\n",
    "        rectangle.move_to(img1.get_center() + DOWN * 1.2)\n",
    "        self.play(Create(rectangle))\n",
    "        self.wait(3)\n",
    "       \n",
    "        \n",
    "        "
   ]
  },
  {
   "cell_type": "code",
   "execution_count": 18,
   "id": "bd7c61f1-aed4-40ed-b4ab-e91359fb2bab",
   "metadata": {},
   "outputs": [
    {
     "name": "stderr",
     "output_type": "stream",
     "text": [
      "                                                                                                            \r"
     ]
    },
    {
     "data": {
      "text/html": [
       "<video src=\"media/jupyter/Main@2024-01-24@17-03-38.mp4\" controls autoplay loop style=\"max-width: 60%;\"  >\n",
       "      Your browser does not support the <code>video</code> element.\n",
       "    </video>"
      ],
      "text/plain": [
       "<IPython.core.display.Video object>"
      ]
     },
     "metadata": {},
     "output_type": "display_data"
    }
   ],
   "source": [
    "%%manim -ql -v WARNING Main \n",
    "\n",
    "from manim import *\n",
    "class Main(Scene):\n",
    "    def construct(self):\n",
    "        t1 = Text('Main\\n').set_color(YELLOW)\n",
    "        t2 = MarkupText(colorize(' def main(args):\\n    global AI\\n    AI = OpenAI(api_key=args.get(\"OPENAI_API_KEY\"))\\n\\n    input = args.get(\"input\", \"\")\\n    output = ask(input)\\n\\n    return {\"body\": {\"output\": output}}'), font='Monospace').to_edge(LEFT).scale(.7)\n",
    "        vg = VGroup(t1,t2).arrange(DOWN, buff=0.4)\n",
    "        self.play(Create(vg, run_time=5))\n",
    "        self.wait(3)\n",
    "        thanks = Text(\"Thanks for watching\").scale(1)\n",
    "        self.play(ReplacementTransform(vg, thanks))\n",
    "        self.wait(5)"
   ]
  },
  {
   "cell_type": "code",
   "execution_count": null,
   "id": "c3c7370f-8a4b-47bb-b38b-ca996ed89ff7",
   "metadata": {},
   "outputs": [],
   "source": []
  }
 ],
 "metadata": {
  "kernelspec": {
   "display_name": "Python 3 (ipykernel)",
   "language": "python",
   "name": "python3"
  },
  "language_info": {
   "codemirror_mode": {
    "name": "ipython",
    "version": 3
   },
   "file_extension": ".py",
   "mimetype": "text/x-python",
   "name": "python",
   "nbconvert_exporter": "python",
   "pygments_lexer": "ipython3",
   "version": "3.10.12"
  }
 },
 "nbformat": 4,
 "nbformat_minor": 5
}
