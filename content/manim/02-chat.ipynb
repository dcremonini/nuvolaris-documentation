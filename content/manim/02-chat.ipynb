{
 "cells": [
  {
   "cell_type": "code",
   "execution_count": 2,
   "id": "57bba08a-786e-4050-9330-ca1a83433ca8",
   "metadata": {},
   "outputs": [
    {
     "data": {
      "text/html": [
       "<pre style=\"white-space:pre;overflow-x:auto;line-height:normal;font-family:Menlo,'DejaVu Sans Mono',consolas,'Courier New',monospace\">Manim Community <span style=\"color: #008000; text-decoration-color: #008000\">v0.18.0</span>\n",
       "\n",
       "</pre>\n"
      ],
      "text/plain": [
       "Manim Community \u001b[32mv0.\u001b[0m\u001b[32m18.0\u001b[0m\n",
       "\n"
      ]
     },
     "metadata": {},
     "output_type": "display_data"
    }
   ],
   "source": [
    "import jupyter_manim\n",
    "from manim import *\n",
    "\n",
    "from pathlib import Path\n",
    "from subprocess import Popen, PIPE\n",
    "\n",
    "def colorize(text): \n",
    "    Path(\"_col.py\").write_text(text)  \n",
    "    (out, _) = Popen([\"pygmentize\", \"_col.py\", \"-f\", \"pango\"], stdout=PIPE, text=True).communicate()\n",
    "    return out\n",
    "\n",
    "def addlogo(scene):\n",
    "    logo = ImageMobject(\"images/logo-full-transparent.png\") # Replace with your logo\n",
    "    logo.scale(0.2)\n",
    "    logo.scale(0.4)\n",
    "    logo.to_corner(DR)\n",
    "    scene.add(logo)"
   ]
  },
  {
   "cell_type": "code",
   "execution_count": 4,
   "id": "f1289ec2-09c6-470d-86a4-a3cea217f65c",
   "metadata": {},
   "outputs": [
    {
     "name": "stderr",
     "output_type": "stream",
     "text": [
      "                                                                                           \r"
     ]
    },
    {
     "data": {
      "text/html": [
       "<video src=\"media/jupyter/Hello@2024-01-23@12-06-38.mp4\" controls autoplay loop style=\"max-width: 60%;\"  >\n",
       "      Your browser does not support the <code>video</code> element.\n",
       "    </video>"
      ],
      "text/plain": [
       "<IPython.core.display.Video object>"
      ]
     },
     "metadata": {},
     "output_type": "display_data"
    }
   ],
   "source": [
    "%%manim -ql -v WARNING Hello \n",
    "class Hello(Scene):\n",
    "    def construct(self): \n",
    "\n",
    "        # Create your logo and title\n",
    "        logo = ImageMobject(\"images/logo-full-transparent.png\") # Replace with your logo\n",
    "        logo.scale(0.2)\n",
    "\n",
    "        logo1 = logo.copy()\n",
    "        logo1.scale(0.4)\n",
    "        logo1.to_corner(DR)\n",
    "        \n",
    "        title = Text(\"Implementing a Chat\\nUsing OpenAI\\nwith Nuvolaris\").scale(1.5) # Replace with your title\n",
    "\n",
    "        # Position the logo at the center\n",
    "        #logo.move_to(ORIGIN)\n",
    "\n",
    "        # Create a target position for the logo (top left corner)\n",
    "        #logo.target = logo.copy().to_corner(UL)\n",
    "\n",
    "        # Animation: move logo to top left and fade in the title\n",
    "        self.play(\n",
    "            Transform(logo, logo1),\n",
    "            FadeIn(title),\n",
    "            run_time=3\n",
    "        )\n",
    "\n",
    "        # Keep the screen for a while\n",
    "        self.wait(3)"
   ]
  },
  {
   "cell_type": "code",
   "execution_count": 7,
   "id": "e3650c77-500b-40a8-8feb-dc0bdd63690b",
   "metadata": {},
   "outputs": [
    {
     "name": "stderr",
     "output_type": "stream",
     "text": [
      "                                                                                             \r"
     ]
    },
    {
     "data": {
      "text/html": [
       "<video src=\"media/jupyter/SaveKey@2024-01-23@12-08-01.mp4\" controls autoplay loop style=\"max-width: 60%;\"  >\n",
       "      Your browser does not support the <code>video</code> element.\n",
       "    </video>"
      ],
      "text/plain": [
       "<IPython.core.display.Video object>"
      ]
     },
     "metadata": {},
     "output_type": "display_data"
    }
   ],
   "source": [
    "%%manim -ql -v WARNING SaveKey \n",
    "\n",
    "from manim import *\n",
    "class SaveKey(Scene):\n",
    "    def construct(self):\n",
    "        t1 = Text('We use completions API\\n').set_color(YELLOW)\n",
    "        t2 = Text('MODEL = \"gpt-3.5-turbo\"\\n\\n', font='Monospace').to_edge(LEFT).scale(.7)\n",
    "        t3 = Text('comp = AI.chat.completions.create(\\nmodel=MODEL, messages=req(input))', font='Monospace').to_edge(LEFT).scale(.7)\n",
    "        vg = VGroup(t1,t2,t3).arrange(DOWN, buff=0.4)\n",
    "        self.play(Create(vg, run_time=5))\n",
    "        self.wait(3)\n",
    "  "
   ]
  },
  {
   "cell_type": "code",
   "execution_count": 9,
   "id": "9135ca9e-1ca8-4fe9-a308-bb7b42495d1c",
   "metadata": {},
   "outputs": [
    {
     "name": "stderr",
     "output_type": "stream",
     "text": [
      "                                                                                             \r"
     ]
    },
    {
     "data": {
      "text/html": [
       "<video src=\"media/jupyter/SaveKey@2024-01-23@12-11-07.mp4\" controls autoplay loop style=\"max-width: 60%;\"  >\n",
       "      Your browser does not support the <code>video</code> element.\n",
       "    </video>"
      ],
      "text/plain": [
       "<IPython.core.display.Video object>"
      ]
     },
     "metadata": {},
     "output_type": "display_data"
    }
   ],
   "source": [
    "%%manim -ql -v WARNING SaveKey \n",
    "\n",
    "from manim import *\n",
    "class SaveKey(Scene):\n",
    "    def construct(self):\n",
    "        t1 = Text('Using completion (context-free) API\\n').set_color(YELLOW)\n",
    "        t2 = Text('ROLE = \"\"\"You are a friendly assistant\"\"\"\\n\\n', font='Monospace').to_edge(LEFT).scale(.7)\n",
    "        #colorize code\n",
    "        t3 = Text('def req(msg):\\n    return [{\"role\": \"system\", \"content\": ROLE},\\n            {\"role\": \"user\", \"content\": msg}]', font='Monospace').to_edge(LEFT).scale(.7)\n",
    "        vg = VGroup(t1,t2,t3).arrange(DOWN, buff=0.4)\n",
    "        self.play(Create(vg, run_time=5))\n",
    "        self.wait(3)"
   ]
  },
  {
   "cell_type": "code",
   "execution_count": 13,
   "id": "0e6a2950-44a6-4826-bd43-8f301204aacd",
   "metadata": {},
   "outputs": [
    {
     "name": "stderr",
     "output_type": "stream",
     "text": [
      "                                                                                             \r"
     ]
    },
    {
     "data": {
      "text/html": [
       "<video src=\"media/jupyter/SaveKey@2024-01-23@12-13-54.mp4\" controls autoplay loop style=\"max-width: 60%;\"  >\n",
       "      Your browser does not support the <code>video</code> element.\n",
       "    </video>"
      ],
      "text/plain": [
       "<IPython.core.display.Video object>"
      ]
     },
     "metadata": {},
     "output_type": "display_data"
    }
   ],
   "source": [
    "%%manim -ql -v WARNING SaveKey \n",
    "\n",
    "from manim import *\n",
    "class SaveKey(Scene):\n",
    "    def construct(self):\n",
    "        t1 = Text('Let\\'s define function Ask\\n').set_color(YELLOW)\n",
    "        t2 = Text('def ask(input):\\n    comp = AI.chat.completions.create(model=MODEL, \\nmessages=req(input))\\n\\n', font='Monospace').to_edge(LEFT).scale(.7)\n",
    "        t3 = Text('if len(comp.choices) > 0:\\n        return comp.choices[0].message.content\\nreturn \"ERROR\"\\n', font='Monospace').to_edge(LEFT).scale(.7)\n",
    "        vg = VGroup(t1,t2,t3).arrange(DOWN, buff=0.4)\n",
    "        self.play(Create(vg, run_time=5))\n",
    "        self.wait(3)"
   ]
  },
  {
   "cell_type": "code",
   "execution_count": 14,
   "id": "bd7c61f1-aed4-40ed-b4ab-e91359fb2bab",
   "metadata": {},
   "outputs": [
    {
     "name": "stderr",
     "output_type": "stream",
     "text": [
      "                                                                                   \r"
     ]
    },
    {
     "data": {
      "text/html": [
       "<video src=\"media/jupyter/SaveKey@2024-01-23@12-14-17.mp4\" controls autoplay loop style=\"max-width: 60%;\"  >\n",
       "      Your browser does not support the <code>video</code> element.\n",
       "    </video>"
      ],
      "text/plain": [
       "<IPython.core.display.Video object>"
      ]
     },
     "metadata": {},
     "output_type": "display_data"
    }
   ],
   "source": [
    "%%manim -ql -v WARNING SaveKey \n",
    "\n",
    "from manim import *\n",
    "class SaveKey(Scene):\n",
    "    def construct(self):\n",
    "        t1 = Text('Main\\n').set_color(YELLOW)\n",
    "        t2 = Text('def main(args):\\n    global AI\\n    AI = OpenAI(api_key=args.get(\"OPENAI_API_KEY\"))\\n\\n    input = args.get(\"input\", \"\")\\n    output = ask(input)\\n\\n    return {\"body\": {\"output\": output}}', font='Monospace').to_edge(LEFT).scale(.7)\n",
    "        vg = VGroup(t1,t2).arrange(DOWN, buff=0.4)\n",
    "        self.play(Create(vg, run_time=5))\n",
    "        self.wait(3)"
   ]
  },
  {
   "cell_type": "code",
   "execution_count": null,
   "id": "c3c7370f-8a4b-47bb-b38b-ca996ed89ff7",
   "metadata": {},
   "outputs": [],
   "source": []
  }
 ],
 "metadata": {
  "kernelspec": {
   "display_name": "Python 3 (ipykernel)",
   "language": "python",
   "name": "python3"
  },
  "language_info": {
   "codemirror_mode": {
    "name": "ipython",
    "version": 3
   },
   "file_extension": ".py",
   "mimetype": "text/x-python",
   "name": "python",
   "nbconvert_exporter": "python",
   "pygments_lexer": "ipython3",
   "version": "3.10.12"
  }
 },
 "nbformat": 4,
 "nbformat_minor": 5
}
