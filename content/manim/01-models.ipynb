{
 "cells": [
  {
   "cell_type": "markdown",
   "id": "a3963b06-a348-4115-aaaa-b605c9a169e1",
   "metadata": {},
   "source": [
    "!ls images\n",
    "!pwd"
   ]
  },
  {
   "cell_type": "code",
   "execution_count": 1,
   "id": "92668007-a90b-4580-9afd-b5352107e653",
   "metadata": {},
   "outputs": [
    {
     "data": {
      "text/html": [
       "<pre style=\"white-space:pre;overflow-x:auto;line-height:normal;font-family:Menlo,'DejaVu Sans Mono',consolas,'Courier New',monospace\">Manim Community <span style=\"color: #008000; text-decoration-color: #008000\">v0.18.0</span>\n",
       "\n",
       "</pre>\n"
      ],
      "text/plain": [
       "Manim Community \u001b[32mv0.\u001b[0m\u001b[32m18.0\u001b[0m\n",
       "\n"
      ]
     },
     "metadata": {},
     "output_type": "display_data"
    }
   ],
   "source": [
    "import jupyter_manim\n",
    "\n",
    "from manim import *\n",
    "\n",
    "from pathlib import Path\n",
    "from subprocess import Popen, PIPE\n",
    "\n",
    "def colorize(text): \n",
    "    Path(\"_col.py\").write_text(text)  \n",
    "    (out, _) = Popen([\"pygmentize\", \"_col.py\", \"-f\", \"pango\"], stdout=PIPE, text=True).communicate()\n",
    "    return out\n",
    "\n",
    "def addlogo(scene):\n",
    "    logo = ImageMobject(\"images/logo-full-transparent.png\") # Replace with your logo\n",
    "    logo.scale(0.2)\n",
    "    logo.scale(0.4)\n",
    "    logo.to_corner(DR)\n",
    "    scene.add(logo)\n"
   ]
  },
  {
   "cell_type": "code",
   "execution_count": 2,
   "id": "c2d66ea8-4ad7-489f-96ae-8ca007a61374",
   "metadata": {},
   "outputs": [
    {
     "name": "stderr",
     "output_type": "stream",
     "text": [
      "                                                                                           \r"
     ]
    },
    {
     "data": {
      "text/html": [
       "<video src=\"media/jupyter/Hello@2024-01-23@13-14-31.mp4\" controls autoplay loop style=\"max-width: 60%;\"  >\n",
       "      Your browser does not support the <code>video</code> element.\n",
       "    </video>"
      ],
      "text/plain": [
       "<IPython.core.display.Video object>"
      ]
     },
     "metadata": {},
     "output_type": "display_data"
    }
   ],
   "source": [
    "%%manim -ql -v WARNING Hello \n",
    "class Hello(Scene):\n",
    "    def construct(self): \n",
    "\n",
    "        # Create your logo and title\n",
    "        logo = ImageMobject(\"images/logo-full-transparent.png\") # Replace with your logo\n",
    "        logo.scale(0.2)\n",
    "\n",
    "        logo1 = logo.copy()\n",
    "        logo1.scale(0.4)\n",
    "        logo1.to_corner(DR)\n",
    "        \n",
    "        title = Text(\"Using OpenAI\\nwith Nuvolaris\").scale(2) # Replace with your title\n",
    "\n",
    "        # Position the logo at the center\n",
    "        #logo.move_to(ORIGIN)\n",
    "\n",
    "        # Create a target position for the logo (top left corner)\n",
    "        #logo.target = logo.copy().to_corner(UL)\n",
    "\n",
    "        # Animation: move logo to top left and fade in the title\n",
    "        self.play(\n",
    "            Transform(logo, logo1),\n",
    "            FadeIn(title),\n",
    "            run_time=3\n",
    "        )\n",
    "\n",
    "        # Keep the screen for a while\n",
    "        self.wait(3)\n"
   ]
  },
  {
   "cell_type": "markdown",
   "id": "b4f43d06-2d12-4dc9-a378-8787c82984b3",
   "metadata": {},
   "source": [
    "from IPython.display import Image\n",
    "Image(filename='images/api-keys.png') \n",
    "Image(filename='images/get-openai-api-key.png') \n"
   ]
  },
  {
   "cell_type": "code",
   "execution_count": 9,
   "id": "7c137a76-dbdb-4eac-a97c-9b15d2cb9729",
   "metadata": {},
   "outputs": [
    {
     "name": "stderr",
     "output_type": "stream",
     "text": [
      "                                                                                                                                   \r"
     ]
    },
    {
     "data": {
      "text/html": [
       "<video src=\"media/jupyter/GetAPIKey@2024-01-22@16-24-24.mp4\" controls autoplay loop style=\"max-width: 60%;\"  >\n",
       "      Your browser does not support the <code>video</code> element.\n",
       "    </video>"
      ],
      "text/plain": [
       "<IPython.core.display.Video object>"
      ]
     },
     "metadata": {},
     "output_type": "display_data"
    }
   ],
   "source": [
    "%%manim -ql -v WARNING GetAPIKey \n",
    "\n",
    "from manim import *\n",
    "class GetAPIKey(Scene):\n",
    "    def construct(self):\n",
    "        t1 = Text(\"Let's get an\\nOpenAI API key\").scale(1).to_edge(RIGHT)\n",
    "        self.play(Create(t1, run_time=2))\n",
    "        img= ImageMobject(\"images/api-keys.png\")\n",
    "        img.scale(1.2)\n",
    "        img.to_edge(LEFT, buff=1)\n",
    "        self.add(img)\n",
    "        self.play(FadeIn(img))\n",
    "        self.wait(3)\n",
    "        img2 = ImageMobject(\"images/get-openai-api-key.png\")\n",
    "        img2.to_edge(RIGHT)\n",
    "        self.add(img2)\n",
    "        self.play(FadeIn(img2))\n",
    "        self.wait(2)\n",
    "        t2 = Text(\"save to\\nclipboard\").scale(1).to_edge(LEFT+DOWN)\n",
    "        self.play(Create(t2, run_time=2))\n",
    "        self.wait(3)\n",
    "        \n",
    "  "
   ]
  },
  {
   "cell_type": "code",
   "execution_count": 10,
   "id": "e5b853d0-73d3-4d72-af95-e4151837cd3f",
   "metadata": {},
   "outputs": [
    {
     "name": "stderr",
     "output_type": "stream",
     "text": [
      "                                                                                                                                   \r"
     ]
    },
    {
     "data": {
      "text/html": [
       "<video src=\"media/jupyter/SaveKey@2024-01-22@16-24-32.mp4\" controls autoplay loop style=\"max-width: 60%;\"  >\n",
       "      Your browser does not support the <code>video</code> element.\n",
       "    </video>"
      ],
      "text/plain": [
       "<IPython.core.display.Video object>"
      ]
     },
     "metadata": {},
     "output_type": "display_data"
    }
   ],
   "source": [
    "%%manim -ql -v WARNING SaveKey \n",
    "\n",
    "from manim import *\n",
    "class SaveKey(Scene):\n",
    "    def construct(self):\n",
    "        t1 = Text('echo OPENAI_API_KEY=\"<paste-the-api-key>\" \\\\\\n>>~/.bashrc\\n', font='Monospace').to_edge(LEFT).scale(.7)\n",
    "        t2 = Text('if you use Linux or Mac\\n\\n').set_color(YELLOW)\n",
    "        t3 = Text('setx OPENAI_API_KEY \"<paste-the-api-key>', font='Monospace').to_edge(LEFT).scale(.7)\n",
    "        t4 = Text('   if you use Windows\\n\\n').to_edge(LEFT).set_color(YELLOW)\n",
    "        t5 = Text('Remember to reopen the terminal to take effect', weight=BOLD, font='Serif').to_edge(LEFT).scale(.8).set_color(RED)\n",
    "        vg = VGroup(t1,t2,t3,t4,t5).arrange(DOWN, buff=0.4)\n",
    "        self.play(Create(vg, run_time=5))\n",
    "        self.wait(3)\n",
    "  "
   ]
  },
  {
   "cell_type": "code",
   "execution_count": 11,
   "id": "24bbd96d-f87d-4539-bc6a-73bd32a1c7a4",
   "metadata": {},
   "outputs": [
    {
     "name": "stderr",
     "output_type": "stream",
     "text": [
      "                                                                                                                                                                            \r"
     ]
    },
    {
     "data": {
      "text/html": [
       "<video src=\"media/jupyter/ShowCode@2024-01-22@16-24-43.mp4\" controls autoplay loop style=\"max-width: 60%;\"  >\n",
       "      Your browser does not support the <code>video</code> element.\n",
       "    </video>"
      ],
      "text/plain": [
       "<IPython.core.display.Video object>"
      ]
     },
     "metadata": {},
     "output_type": "display_data"
    }
   ],
   "source": [
    "%%manim -ql -v WARNING ShowCode \n",
    "code = \"\"\"\n",
    "# File: models.py\n",
    "from  openai import OpenAI\n",
    "def main(args):\n",
    "   # access OpenAI\n",
    "   ai = OpenAI(api_key=args['OPENAI_API_KEY'])\n",
    "   # extract a list of models\n",
    "   data = ai.models.list().model_dump()\n",
    "   models = [m['id'] for m in data['data']]\n",
    "   # return lthe list\n",
    "   return { \"models\": models }\n",
    "\"\"\"\n",
    "from manim import *\n",
    "class ShowCode(Scene):\n",
    "    def construct(self): \n",
    "        global code\n",
    "        code = MarkupText(colorize(code), font='Monospace').scale(0.7)\n",
    "        code.to_edge(UP + LEFT)\n",
    "        self.play(Create(code, run_time=5, rate_func=linear))\n",
    "        self.wait(3)        \n",
    "\n"
   ]
  },
  {
   "cell_type": "code",
   "execution_count": 12,
   "id": "eec10b11-fd14-4d34-8ad0-fb1ae64de7ce",
   "metadata": {},
   "outputs": [
    {
     "name": "stderr",
     "output_type": "stream",
     "text": [
      "                                                                                                                                                                            \r"
     ]
    },
    {
     "data": {
      "text/html": [
       "<video src=\"media/jupyter/Deploy@2024-01-22@16-25-02.mp4\" controls autoplay loop style=\"max-width: 60%;\"  >\n",
       "      Your browser does not support the <code>video</code> element.\n",
       "    </video>"
      ],
      "text/plain": [
       "<IPython.core.display.Video object>"
      ]
     },
     "metadata": {},
     "output_type": "display_data"
    }
   ],
   "source": [
    "%%manim -ql -v WARNING Deploy \n",
    "from manim import *\n",
    "class Deploy(Scene):\n",
    "    def construct(self): \n",
    "        t1 = Text(\"Let's deploy the code in Nuvolaris\", weight=BOLD, font='Serif').to_edge(LEFT).scale(1).set_color(RED)\n",
    "        t2 = Text('Creating a package with the key\\n\\n').set_color(YELLOW)\n",
    "        t3 = Text('nuv package update sample \\\\\\n-p OPENAI_API_KEY $OPENAI_API_KEY', font='Monospace').to_edge(LEFT).scale(.9)\n",
    "        t4 = Text('Deploy the function\\n\\n').to_edge(LEFT).set_color(YELLOW)\n",
    "        t5 = Text('nuv action update sample/models models.py', font='Monospace').to_edge(LEFT).scale(.8)\n",
    "        vg = VGroup(t1,t2,t3,t4,t5).arrange(DOWN, buff=0.4)\n",
    "        self.play(Create(vg, run_time=5))\n",
    "        self.wait(3)"
   ]
  },
  {
   "cell_type": "code",
   "execution_count": 13,
   "id": "1fab1de1-103e-46d7-affe-e88497353b52",
   "metadata": {},
   "outputs": [
    {
     "name": "stderr",
     "output_type": "stream",
     "text": [
      "                                                                                                                                                                            \r"
     ]
    },
    {
     "data": {
      "text/html": [
       "<video src=\"media/jupyter/Test@2024-01-22@16-25-25.mp4\" controls autoplay loop style=\"max-width: 60%;\"  >\n",
       "      Your browser does not support the <code>video</code> element.\n",
       "    </video>"
      ],
      "text/plain": [
       "<IPython.core.display.Video object>"
      ]
     },
     "metadata": {},
     "output_type": "display_data"
    }
   ],
   "source": [
    "%%manim -ql -v WARNING Test\n",
    "\n",
    "from manim import *\n",
    "class Test(Scene):\n",
    "    def construct(self): \n",
    "        out = \"\"\"\n",
    "{\n",
    "    \"models\": [\n",
    "        \"dall-e-3\",\n",
    "        \"gpt-3.5-turbo-0301\",\n",
    "        \"whisper-1\",\n",
    "        \"gpt-3.5-turbo-16k-0613\",\n",
    "        \"gpt-3.5-turbo-16k\",\n",
    "        \"gpt-3.5-turbo\",\n",
    "        ... omissis\n",
    "    ]\n",
    "}\n",
    "\"\"\"\n",
    "        t1 = Text(\"Testing the result\", weight=BOLD, font='Serif').to_edge(LEFT).scale(1).set_color(RED)\n",
    "        t2 = Text('nuv invoke sample/models', font='Monospace').to_edge(LEFT).scale(1)\n",
    "        t3 = MarkupText(colorize(out), font='Monospace').scale(0.5)\n",
    "        vg = VGroup(t1,t2,t3).arrange(DOWN, buff=0.4)\n",
    "        self.play(Create(vg, run_time=5))\n",
    "        self.wait(3)\n",
    "        thanks = Text(\"Thanks for watching\").scale(1)\n",
    "        self.play(ReplacementTransform(vg, thanks))\n",
    "        logo = ImageMobject(\"images/logo-full-transparent.png\") # Replace with your logo\n",
    "        logo.scale(0.1)\n",
    "        logo.next_to(thanks, DOWN)\n",
    "        self.add(logo)\n",
    "        self.wait(5)\n",
    "        \n"
   ]
  },
  {
   "cell_type": "code",
   "execution_count": null,
   "id": "575e2865-735f-459c-b44e-8f9dc7765a64",
   "metadata": {},
   "outputs": [],
   "source": []
  },
  {
   "cell_type": "code",
   "execution_count": null,
   "id": "9cf4e70b-cc1d-403d-ab11-8fdabd8ea604",
   "metadata": {},
   "outputs": [],
   "source": []
  }
 ],
 "metadata": {
  "kernelspec": {
   "display_name": "Python 3 (ipykernel)",
   "language": "python",
   "name": "python3"
  },
  "language_info": {
   "codemirror_mode": {
    "name": "ipython",
    "version": 3
   },
   "file_extension": ".py",
   "mimetype": "text/x-python",
   "name": "python",
   "nbconvert_exporter": "python",
   "pygments_lexer": "ipython3",
   "version": "3.10.12"
  }
 },
 "nbformat": 4,
 "nbformat_minor": 5
}
